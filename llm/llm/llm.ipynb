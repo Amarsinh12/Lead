{
 "cells": [
  {
   "cell_type": "code",
   "execution_count": 1,
   "metadata": {},
   "outputs": [],
   "source": [
    "import pandas as pd\n",
    "import os\n",
    "from dotenv import load_dotenv\n",
    "from langchain_huggingface import HuggingFaceEndpoint"
   ]
  },
  {
   "cell_type": "code",
   "execution_count": 2,
   "metadata": {},
   "outputs": [
    {
     "name": "stderr",
     "output_type": "stream",
     "text": [
      "Python-dotenv could not parse statement starting at line 3\n"
     ]
    }
   ],
   "source": [
    "# Load environment variables\n",
    "load_dotenv()\n",
    "HF_TOKEN = os.getenv(\"HUGGINGFACEHUB_API_TOKEN\")"
   ]
  },
  {
   "cell_type": "code",
   "execution_count": 3,
   "metadata": {},
   "outputs": [],
   "source": [
    "# Load the Hugging Face API key from environment variables\n",
    "sec_key = os.getenv(\"HF_TOKEN\")\n",
    "if not sec_key:\n",
    "    raise ValueError(\"Hugging Face API token is required. Set it in your environment variables.\")"
   ]
  },
  {
   "cell_type": "code",
   "execution_count": 4,
   "metadata": {},
   "outputs": [
    {
     "name": "stderr",
     "output_type": "stream",
     "text": [
      "WARNING! max_length is not default parameter.\n",
      "                    max_length was transferred to model_kwargs.\n",
      "                    Please make sure that max_length is what you intended.\n",
      "WARNING! token is not default parameter.\n",
      "                    token was transferred to model_kwargs.\n",
      "                    Please make sure that token is what you intended.\n",
      "Note: Environment variable`HF_TOKEN` is set and is the current active token independently from the token you've just configured.\n"
     ]
    }
   ],
   "source": [
    "# Define the Hugging Face model endpoint\n",
    "repo_id = \"mistralai/Mistral-7B-Instruct-v0.2\"\n",
    "llm = HuggingFaceEndpoint(repo_id=repo_id, max_length=128, temperature=0.7, token=sec_key)"
   ]
  },
  {
   "cell_type": "code",
   "execution_count": 5,
   "metadata": {},
   "outputs": [],
   "source": [
    "# Load the dataset\n",
    "df = pd.read_csv(\"Leads.csv\")  # Adjust the path to your dataset\n",
    "filtered_df = df[[\n",
    "    \"TotalVisits\", \"Total Time Spent on Website\", \"Page Views Per Visit\",\n",
    "    \"Last Activity\", \"Lead Source\", \"How did you hear about X Education\",\n",
    "    \"What is your current occupation\", \"Lead Quality\", \"Through Recommendations\",\n",
    "    \"Digital Advertisement\", \"Receive More Updates About Our Courses\"\n",
    "]]"
   ]
  },
  {
   "cell_type": "code",
   "execution_count": 6,
   "metadata": {},
   "outputs": [
    {
     "name": "stdout",
     "output_type": "stream",
     "text": [
      "Dataset Summary:\n",
      "         TotalVisits  Total Time Spent on Website  Page Views Per Visit Last Activity Lead Source How did you hear about X Education What is your current occupation Lead Quality Through Recommendations Digital Advertisement Receive More Updates About Our Courses\n",
      "count   9103.000000                  9240.000000           9103.000000          9137        9204                               7033                            6550         4473                    9240                  9240                                   9240\n",
      "unique          NaN                          NaN                   NaN            17          21                                 10                               6            5                       2                     2                                      1\n",
      "top             NaN                          NaN                   NaN  Email Opened      Google                             Select                      Unemployed     Might be                      No                    No                                     No\n",
      "freq            NaN                          NaN                   NaN          3437        2868                               5043                            5600         1560                    9233                  9236                                   9240\n",
      "mean       3.445238                   487.698268              2.362820           NaN         NaN                                NaN                             NaN          NaN                     NaN                   NaN                                    NaN\n",
      "std        4.854853                   548.021466              2.161418           NaN         NaN                                NaN                             NaN          NaN                     NaN                   NaN                                    NaN\n",
      "min        0.000000                     0.000000              0.000000           NaN         NaN                                NaN                             NaN          NaN                     NaN                   NaN                                    NaN\n",
      "25%        1.000000                    12.000000              1.000000           NaN         NaN                                NaN                             NaN          NaN                     NaN                   NaN                                    NaN\n",
      "50%        3.000000                   248.000000              2.000000           NaN         NaN                                NaN                             NaN          NaN                     NaN                   NaN                                    NaN\n",
      "75%        5.000000                   936.000000              3.000000           NaN         NaN                                NaN                             NaN          NaN                     NaN                   NaN                                    NaN\n",
      "max      251.000000                  2272.000000             55.000000           NaN         NaN                                NaN                             NaN          NaN                     NaN                   NaN                                    NaN\n"
     ]
    }
   ],
   "source": [
    "# Summarize dataset\n",
    "data_summary = filtered_df.describe(include='all').to_string()\n",
    "print(\"Dataset Summary:\\n\", data_summary)"
   ]
  },
  {
   "cell_type": "code",
   "execution_count": 7,
   "metadata": {},
   "outputs": [],
   "source": [
    "# Function to get predictions\n",
    "def predict_lead(total_visits, total_time_spent, page_views, lead_quality):\n",
    "    prompt = f\"\"\"\n",
    "    Predict lead likelihood:\n",
    "    Total Visits: {total_visits}\n",
    "    Time Spent: {total_time_spent}\n",
    "    Page Views: {page_views}\n",
    "    Lead Quality: {lead_quality}\n",
    "\n",
    "    Based on the dataset trends, patterns, and correlations, predict whether the customer is likely to become a lead or not. Explain your reasoning in detail.\n",
    "\n",
    "    Here is a summary of the dataset:\n",
    "\n",
    "    {data_summary}\n",
    "    \"\"\"\n",
    "    response = llm(prompt)\n",
    "    return response\n"
   ]
  },
  {
   "cell_type": "code",
   "execution_count": 8,
   "metadata": {},
   "outputs": [],
   "source": [
    "# Example user input (can be replaced with GUI inputs)\n",
    "total_visits = 42\n",
    "total_time_spent = 3654\n",
    "page_views = 34\n",
    "lead_quality = \"Might be\""
   ]
  },
  {
   "cell_type": "code",
   "execution_count": 9,
   "metadata": {},
   "outputs": [
    {
     "name": "stderr",
     "output_type": "stream",
     "text": [
      "C:\\Users\\aarya\\AppData\\Local\\Temp\\ipykernel_20844\\1731985580.py:16: LangChainDeprecationWarning: The method `BaseLLM.__call__` was deprecated in langchain-core 0.1.7 and will be removed in 1.0. Use :meth:`~invoke` instead.\n",
      "  response = llm(prompt)\n"
     ]
    },
    {
     "name": "stdout",
     "output_type": "stream",
     "text": [
      "Generated Insights:\n",
      "\n",
      "    Based on this dataset, we can make some observations and assumptions to predict the lead likelihood:\n",
      "\n",
      "    1. Total Visits: The number of visits a user makes to the website can be an indicator of their interest level. The more visits, the more likely they are to become a lead. In this case, the user has visited the website 42 times, which is above the average of 3.45 visits per user. This suggests that the user is actively engaging with the website and may be more likely to convert to a lead.\n",
      "\n",
      "    2. Time Spent: The amount of time a user spends on the website can also be an indicator of their level of interest. The user has spent a total of 3654 seconds on the website, which is significantly higher than the average of 487.7 seconds per user. This indicates that the user is spending a lot of time on the website, potentially exploring different pages and learning about the products or services offered.\n",
      "\n",
      "    3. Page Views: The number of page views per visit can provide insight into the user's level of engagement. In this case, the user has viewed 34 pages during their 42 visits, which is below the average of 2.36 pages per visit. However, this may not be a significant factor in predicting lead likelihood, as some users may spend a lot of time on a single page without viewing others.\n",
      "\n",
      "    4. Lead Quality: The user has been categorized as having \"Might be\" lead quality. This suggests that there is some level of interest or potential for conversion, but it is not yet clear. The user has not yet taken a clear action to indicate their intent to become a lead, such as filling out a contact form or making a purchase.\n",
      "\n",
      "    Based on these observations and assumptions, it is difficult to definitively predict whether the user is likely to become a lead or not based solely on this dataset. However, the high number of visits and time spent on the website suggest that the user may be more engaged and interested than the average user. Additionally, the fact that the user has not yet taken a clear action to indicate their intent to become a lead may indicate that they are still in the research phase and have not yet made a decision. Further information, such as the user's behavior on the website, demographic information, or other contextual factors, may be necessary to make a more accurate prediction\n"
     ]
    }
   ],
   "source": [
    "# Get prediction and print result\n",
    "result = predict_lead(total_visits, total_time_spent, page_views, lead_quality)\n",
    "print(\"Generated Insights:\")\n",
    "print(result)"
   ]
  }
 ],
 "metadata": {
  "kernelspec": {
   "display_name": "Python 3",
   "language": "python",
   "name": "python3"
  },
  "language_info": {
   "codemirror_mode": {
    "name": "ipython",
    "version": 3
   },
   "file_extension": ".py",
   "mimetype": "text/x-python",
   "name": "python",
   "nbconvert_exporter": "python",
   "pygments_lexer": "ipython3",
   "version": "3.12.0"
  }
 },
 "nbformat": 4,
 "nbformat_minor": 2
}
